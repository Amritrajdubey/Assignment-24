{
 "cells": [
  {
   "cell_type": "code",
   "execution_count": null,
   "id": "477932a0",
   "metadata": {},
   "outputs": [],
   "source": [
    "1. What is the relationship between def statements and lambda expressions ?"
   ]
  },
  {
   "cell_type": "markdown",
   "id": "7e68ed99",
   "metadata": {},
   "source": [
    "def statement is used to define a function which we run once we call and pass parameters to it vs lamba is already a \n",
    "function of a line suitable for simple operation."
   ]
  },
  {
   "cell_type": "code",
   "execution_count": null,
   "id": "d6320244",
   "metadata": {},
   "outputs": [],
   "source": [
    "2. What is the benefit of lambda?"
   ]
  },
  {
   "cell_type": "markdown",
   "id": "84dd431f",
   "metadata": {},
   "source": [
    "We can write same code being lenthy in short but it's not suited for long set of codes."
   ]
  },
  {
   "cell_type": "code",
   "execution_count": 11,
   "id": "38e19097",
   "metadata": {},
   "outputs": [
    {
     "name": "stdout",
     "output_type": "stream",
     "text": [
      "25\n"
     ]
    },
    {
     "data": {
      "text/plain": [
       "10"
      ]
     },
     "execution_count": 11,
     "metadata": {},
     "output_type": "execute_result"
    }
   ],
   "source": [
    "# One line code adjusted in case of Lambda as below\n",
    "Max= lambda a,b : a if(a>b) else b\n",
    "Max(10,5)\n",
    "\n",
    "\n",
    "# Same code of lambda written with if else\n",
    "def max(a,b):\n",
    "    if a>b :\n",
    "        print(a)\n",
    "    else:\n",
    "        print(b)\n",
    "        \n",
    "max(5,25)\n",
    "Max(10,9)"
   ]
  },
  {
   "cell_type": "code",
   "execution_count": null,
   "id": "60d1f44e",
   "metadata": {},
   "outputs": [],
   "source": [
    "3. Compare and contrast map, filter, and reduce."
   ]
  },
  {
   "cell_type": "code",
   "execution_count": 28,
   "id": "15609d4d",
   "metadata": {},
   "outputs": [
    {
     "name": "stdout",
     "output_type": "stream",
     "text": [
      "[4, 6, 8, 20]\n",
      "10\n"
     ]
    }
   ],
   "source": [
    "# Map : It's a function on which each elements in iterables would be applied on\n",
    "l=[2,3,4,10]\n",
    "def mul(n):\n",
    "    return n*2\n",
    "x = map(mul,l)\n",
    "print(list(x))\n",
    "\n",
    "# Filter : Filter is used to filter out False elements after passing each elements in the iterables through the funstion.\n",
    "\n",
    "\n",
    "# Reduce : It applies a function of two arguments cumulatively to the elements of an iterable\n",
    "from functools import reduce\n",
    "nums = [1, 2, 3, 4]\n",
    "ans = reduce(lambda x, y: x + y, nums)\n",
    "print(ans)\n"
   ]
  },
  {
   "cell_type": "code",
   "execution_count": null,
   "id": "d4647d83",
   "metadata": {},
   "outputs": [],
   "source": [
    "4. What are function annotations, and how are they used?"
   ]
  },
  {
   "cell_type": "markdown",
   "id": "92028b1c",
   "metadata": {},
   "source": [
    "#These are user defined data that add some information to the function . \n",
    "\n",
    "def add(a: int, b:int):# We predefine here that a and b to be of data type int , we can do same for result also .\n",
    "    return a+b "
   ]
  },
  {
   "cell_type": "code",
   "execution_count": null,
   "id": "8bd0a23e",
   "metadata": {},
   "outputs": [],
   "source": [
    "5. What are recursive functions, and how are they used?"
   ]
  },
  {
   "cell_type": "code",
   "execution_count": 3,
   "id": "d638767d",
   "metadata": {},
   "outputs": [
    {
     "name": "stdout",
     "output_type": "stream",
     "text": [
      "0\n",
      "1\n",
      "2\n",
      "3\n",
      "4\n",
      "5\n",
      "6\n",
      "7\n",
      "8\n",
      "9\n"
     ]
    }
   ],
   "source": [
    "It's defined function which perform nos of repetitive call to the function within the defined function .It perform repetitive \n",
    "call within function till the condition is met ,once it happen it stops execution .\n",
    "\n",
    "Ex - \n",
    "i=0 \n",
    "while i<10:\n",
    "    print(i)\n",
    "    i+=1\n",
    "    \n",
    "# Above we set condition for i to be less than 10 , once it' happen loop will stop."
   ]
  },
  {
   "cell_type": "code",
   "execution_count": null,
   "id": "bccc4880",
   "metadata": {},
   "outputs": [],
   "source": [
    "6. What are some general design guidelines for coding functions?"
   ]
  },
  {
   "cell_type": "markdown",
   "id": "fcfc98a7",
   "metadata": {},
   "source": [
    "Coding guidelines help us detect error in early phases enabling to reduce extra cost endured by sofware projects.\n",
    "some general guidelines which our code must follow are:\n",
    "    Safe\n",
    "    Secure\n",
    "    Reliable\n",
    "    Testable\n",
    "    Maintainable\n",
    "    Portable"
   ]
  },
  {
   "cell_type": "code",
   "execution_count": null,
   "id": "9fe39dc8",
   "metadata": {},
   "outputs": [],
   "source": [
    "7. Name three or more ways that functions can communicate results to a caller."
   ]
  },
  {
   "cell_type": "code",
   "execution_count": null,
   "id": "cd75a6a0",
   "metadata": {},
   "outputs": [],
   "source": [
    "We can communicate results to a caller using following ways:\n",
    "    Required Arguments\n",
    "    Keyworded Arguments\n",
    "    Default Arguments\n",
    "    Variable- length Arguments"
   ]
  },
  {
   "cell_type": "code",
   "execution_count": null,
   "id": "8c59a194",
   "metadata": {},
   "outputs": [],
   "source": []
  }
 ],
 "metadata": {
  "kernelspec": {
   "display_name": "Python 3 (ipykernel)",
   "language": "python",
   "name": "python3"
  },
  "language_info": {
   "codemirror_mode": {
    "name": "ipython",
    "version": 3
   },
   "file_extension": ".py",
   "mimetype": "text/x-python",
   "name": "python",
   "nbconvert_exporter": "python",
   "pygments_lexer": "ipython3",
   "version": "3.9.13"
  }
 },
 "nbformat": 4,
 "nbformat_minor": 5
}
